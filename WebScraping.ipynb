{
  "nbformat": 4,
  "nbformat_minor": 0,
  "metadata": {
    "kernelspec": {
      "display_name": "Python 3",
      "language": "python",
      "name": "python3"
    },
    "language_info": {
      "codemirror_mode": {
        "name": "ipython",
        "version": 3
      },
      "file_extension": ".py",
      "mimetype": "text/x-python",
      "name": "python",
      "nbconvert_exporter": "python",
      "pygments_lexer": "ipython3",
      "version": "3.7.4"
    },
    "colab": {
      "name": "WebScraping.ipynb",
      "provenance": [],
      "collapsed_sections": []
    }
  },
  "cells": [
    {
      "cell_type": "code",
      "metadata": {
        "colab": {
          "base_uri": "https://localhost:8080/",
          "height": 391
        },
        "id": "kvIsIsvcFnM4",
        "outputId": "4de2b31c-330e-4bb6-8b89-004de04336d0"
      },
      "source": [
        "%%html\n",
        "<section style=\"background-color:black; margin:0; padding:20px\">\n",
        "     <p style=\"color:white; font-style:italic; font-size:45px\"> M1 MSDA</p>\n",
        "     <p style=\"color:red; font-style:italic; font-size:45px; text-decoration:underline; text-align:center\"> Projet Web Scraping</p><br>\n",
        "    <h2 style=\"color:green; font-style:italic; font-size:30px; text-decoration:none; padding-rigth:10px\">Cheikh \n",
        "    Yakhoub MAAS</h2>\n",
        "    <h2 style=\"color:green; font-style:italic; font-size:30px; text-decoration:none; padding-rigth:10px\">Seydi Amadou DIALLO</h2>\n",
        "    <h2 style=\"color:white; font-style:italic; font-size:30px; text-decoration:none; padding-rigth:10px; text-align:right\">Professeur: Mr BOUSSO</h2>\n",
        "</section>"
      ],
      "execution_count": 4,
      "outputs": [
        {
          "output_type": "display_data",
          "data": {
            "text/html": [
              "<section style=\"background-color:black; margin:0; padding:20px\">\n",
              "     <p style=\"color:white; font-style:italic; font-size:45px\"> M1 MSDA</p>\n",
              "     <p style=\"color:red; font-style:italic; font-size:45px; text-decoration:underline; text-align:center\"> Projet Web_Scraping</p><br>\n",
              "    <h2 style=\"color:green; font-style:italic; font-size:30px; text-decoration:none; padding-rigth:10px\">Cheikh \n",
              "    Yakhoub MAAS</h2>\n",
              "    <h2 style=\"color:green; font-style:italic; font-size:30px; text-decoration:none; padding-rigth:10px\">Seydi Amadou DIALLO</h2>\n",
              "    <h2 style=\"color:white; font-style:italic; font-size:30px; text-decoration:none; padding-rigth:10px; text-align:right\">Professeur: Mr BOUSSO</h2>\n",
              "</section>"
            ],
            "text/plain": [
              "<IPython.core.display.HTML object>"
            ]
          },
          "metadata": {}
        }
      ]
    },
    {
      "cell_type": "markdown",
      "metadata": {
        "id": "HWSC1R-skpjm"
      },
      "source": [
        "### **Sujet 14**:\n",
        "\n",
        "> *Créez un ensemble de données d'articles de blog sur un blog populaire, par ex. https://m.signalvnoise.com/search/ . L'ensemble de données peut contenir des informations telles que le titre du blog, la date de publication, les balises, l'auteur, le lien vers un article de blog, etc.*\n",
        "\n"
      ]
    },
    {
      "cell_type": "code",
      "metadata": {
        "id": "xSIfLbtZEA1c"
      },
      "source": [
        "import requests\n",
        "from bs4 import BeautifulSoup"
      ],
      "execution_count": 6,
      "outputs": []
    },
    {
      "cell_type": "code",
      "metadata": {
        "id": "BWlJGnC-EA1x"
      },
      "source": [
        "url='https://m.signalvnoise.com/search/'\n",
        "response=requests.get(url)\n",
        "doc = BeautifulSoup(response.text)\n",
        "article_tags=doc.findAll('li')  # Permet de récupérer toutes les catégories d'articles.\n",
        "article_tag=article_tags[4] # Renvoie la catégorie d'articles en position 4(Septembre 2020)\n",
        "''' \n",
        "Cette fonction prends en parametre la variable qui renvoie la catégorie d'articles en position 4(Septembre 2020)\n",
        "et qui retourne  l'url permettant d'acceder à ce groupe d'articles.\n",
        "Nous avons en sommes 67 groupes d'articles. Dans la suite i varie entre 0 et 66\n",
        "'''\n",
        "def parse_articl(article_tag):\n",
        "    a_tags = article_tag.find('a')\n",
        "    \n",
        "    url = a_tags['href']\n",
        " \n",
        "    return url\n",
        "\n",
        "'''\n",
        "  Permet de récupérer sous forme de liste tous les urls permettant d'acceder aux différentes catégories d'articles\n",
        "'''\n",
        "\n",
        "def get_top_articl(article_tags):\n",
        "    all_article = [parse_articl(tag) for tag in article_tags]\n",
        "    return all_article\n",
        "get_top_articl=get_top_articl(article_tags)\n"
      ],
      "execution_count": 9,
      "outputs": []
    },
    {
      "cell_type": "code",
      "metadata": {
        "colab": {
          "base_uri": "https://localhost:8080/",
          "height": 0
        },
        "id": "YYJ7_kGeI8vQ",
        "outputId": "477a3ee6-7fce-4cc0-804d-5148fefb7d1f"
      },
      "source": [
        "get_top_articl"
      ],
      "execution_count": 10,
      "outputs": [
        {
          "output_type": "execute_result",
          "data": {
            "text/plain": [
              "['https://m.signalvnoise.com/2021/02/',\n",
              " 'https://m.signalvnoise.com/2021/01/',\n",
              " 'https://m.signalvnoise.com/2020/12/',\n",
              " 'https://m.signalvnoise.com/2020/10/',\n",
              " 'https://m.signalvnoise.com/2020/09/',\n",
              " 'https://m.signalvnoise.com/2020/08/',\n",
              " 'https://m.signalvnoise.com/2020/07/',\n",
              " 'https://m.signalvnoise.com/2020/06/',\n",
              " 'https://m.signalvnoise.com/2020/05/',\n",
              " 'https://m.signalvnoise.com/2020/04/',\n",
              " 'https://m.signalvnoise.com/2020/03/',\n",
              " 'https://m.signalvnoise.com/2020/02/',\n",
              " 'https://m.signalvnoise.com/2020/01/',\n",
              " 'https://m.signalvnoise.com/2019/12/',\n",
              " 'https://m.signalvnoise.com/2019/11/',\n",
              " 'https://m.signalvnoise.com/2019/10/',\n",
              " 'https://m.signalvnoise.com/2019/09/',\n",
              " 'https://m.signalvnoise.com/2019/08/',\n",
              " 'https://m.signalvnoise.com/2019/07/',\n",
              " 'https://m.signalvnoise.com/2019/06/',\n",
              " 'https://m.signalvnoise.com/2019/05/',\n",
              " 'https://m.signalvnoise.com/2019/04/',\n",
              " 'https://m.signalvnoise.com/2019/03/',\n",
              " 'https://m.signalvnoise.com/2019/02/',\n",
              " 'https://m.signalvnoise.com/2019/01/',\n",
              " 'https://m.signalvnoise.com/2018/12/',\n",
              " 'https://m.signalvnoise.com/2018/11/',\n",
              " 'https://m.signalvnoise.com/2018/10/',\n",
              " 'https://m.signalvnoise.com/2018/09/',\n",
              " 'https://m.signalvnoise.com/2018/08/',\n",
              " 'https://m.signalvnoise.com/2018/07/',\n",
              " 'https://m.signalvnoise.com/2018/06/',\n",
              " 'https://m.signalvnoise.com/2018/05/',\n",
              " 'https://m.signalvnoise.com/2018/04/',\n",
              " 'https://m.signalvnoise.com/2018/03/',\n",
              " 'https://m.signalvnoise.com/2018/02/',\n",
              " 'https://m.signalvnoise.com/2018/01/',\n",
              " 'https://m.signalvnoise.com/2017/12/',\n",
              " 'https://m.signalvnoise.com/2017/11/',\n",
              " 'https://m.signalvnoise.com/2017/10/',\n",
              " 'https://m.signalvnoise.com/2017/09/',\n",
              " 'https://m.signalvnoise.com/2017/08/',\n",
              " 'https://m.signalvnoise.com/2017/07/',\n",
              " 'https://m.signalvnoise.com/2017/06/',\n",
              " 'https://m.signalvnoise.com/2017/05/',\n",
              " 'https://m.signalvnoise.com/2017/04/',\n",
              " 'https://m.signalvnoise.com/2017/03/',\n",
              " 'https://m.signalvnoise.com/2017/02/',\n",
              " 'https://m.signalvnoise.com/2017/01/',\n",
              " 'https://m.signalvnoise.com/2016/12/',\n",
              " 'https://m.signalvnoise.com/2016/11/',\n",
              " 'https://m.signalvnoise.com/2016/10/',\n",
              " 'https://m.signalvnoise.com/2016/09/',\n",
              " 'https://m.signalvnoise.com/2016/08/',\n",
              " 'https://m.signalvnoise.com/2016/07/',\n",
              " 'https://m.signalvnoise.com/2016/06/',\n",
              " 'https://m.signalvnoise.com/2016/05/',\n",
              " 'https://m.signalvnoise.com/2016/04/',\n",
              " 'https://m.signalvnoise.com/2016/03/',\n",
              " 'https://m.signalvnoise.com/2016/02/',\n",
              " 'https://m.signalvnoise.com/2016/01/',\n",
              " 'https://m.signalvnoise.com/2015/12/',\n",
              " 'https://m.signalvnoise.com/2015/11/',\n",
              " 'https://m.signalvnoise.com/2015/10/',\n",
              " 'https://m.signalvnoise.com/2015/09/',\n",
              " 'https://m.signalvnoise.com/2014/06/',\n",
              " 'https://m.signalvnoise.com/2013/11/']"
            ]
          },
          "metadata": {},
          "execution_count": 10
        }
      ]
    },
    {
      "cell_type": "code",
      "metadata": {
        "id": "_NYK7QnnEA13"
      },
      "source": [
        "'''Prends en paramètre la position du groupe d'articles et retourne un dictionnaire ayant comme clés:\n",
        "response qui récupère son url , soup pour analyser son contenu et article pour qui renvoie tous les articles qu'il renferme.\n",
        "Un groupe d'articles contient un ou plusieurs articles '''\n",
        "\n",
        "def url_article(i):\n",
        "    response=requests.get(get_top_articl[i]) \n",
        "    soup = BeautifulSoup(response.text,'html.parser')  \n",
        "    article=soup.findAll('article',class_=\"entry-summary grid__item grid__item--third\")\n",
        "    return {'response':response,\n",
        "           'soup':soup,\n",
        "           'article':article}\n",
        "\n",
        "'''Prends en paramètre la position du groupe d'articles et l'indice de l'article contenu dans le groupe d'articles\n",
        "         et retourne ainsi cet article'''\n",
        "         \n",
        "def article_tag(i,j):\n",
        "    article=url_article(i)['article']\n",
        "    art_tag=article[j]\n",
        "    return art_tag\n"
      ],
      "execution_count": 13,
      "outputs": []
    },
    {
      "cell_type": "code",
      "metadata": {
        "colab": {
          "base_uri": "https://localhost:8080/",
          "height": 0
        },
        "id": "5r0bWzRtEA16",
        "outputId": "cb098e09-e0b2-4561-a612-3256416707c0"
      },
      "source": [
        "len(url_article(14)['article']) #Le nombre d'articles que contient le groupe 14(Novembre 2019)"
      ],
      "execution_count": 17,
      "outputs": [
        {
          "output_type": "execute_result",
          "data": {
            "text/plain": [
              "10"
            ]
          },
          "metadata": {},
          "execution_count": 17
        }
      ]
    },
    {
      "cell_type": "code",
      "metadata": {
        "colab": {
          "base_uri": "https://localhost:8080/",
          "height": 0
        },
        "id": "hDdeuepbKjtf",
        "outputId": "c06f122f-c6b1-4e51-e53c-baf45f200127"
      },
      "source": [
        "article_tag(4,0)"
      ],
      "execution_count": 14,
      "outputs": [
        {
          "output_type": "execute_result",
          "data": {
            "text/plain": [
              "<article class=\"entry-summary grid__item grid__item--third\">\n",
              "<h2 class=\"entry-summary__title\"><a href=\"https://m.signalvnoise.com/demand-side-sales-101-a-new-book-on-sales-by-bob-moesta/\" rel=\"bookmark\">Demand Side Sales 101, a new book on sales by Bob Moesta.</a></h2>\n",
              "<div class=\"entry-summary__meta\">\n",
              "<span class=\"byline\"><a class=\"author url fn\" href=\"https://m.signalvnoise.com/author/jason-fried/\" rel=\"author\" title=\"Posts by Jason Fried\">Jason Fried</a></span> <span aria-hidden=\"true\">/</span> <span class=\"posted-on\"><span class=\"screen-reader-text\">posted on </span> <time class=\"entry-date published updated\" datetime=\"2020-09-22T16:16:39-05:00\">September 22, 2020</time></span> <span aria-hidden=\"true\">/</span> <span class=\"comments-link\"><a href=\"https://m.signalvnoise.com/demand-side-sales-101-a-new-book-on-sales-by-bob-moesta/#comments\">9 Comments<span class=\"screen-reader-text\"> on Demand Side Sales 101, a new book on sales by Bob Moesta.</span></a></span> </div>\n",
              "<p>Bob Moesta is a dear friend, mentor, and all around original thinker. He’s helped me see around corners, shine lights on things I didn’t know were there, and approach product development from unusual angles. Every time we talk, I come away inspired and full of optimism. So when he asked me to help him with… <a class=\"read-more\" href=\"https://m.signalvnoise.com/demand-side-sales-101-a-new-book-on-sales-by-bob-moesta/\">keep reading</a></p>\n",
              "</article>"
            ]
          },
          "metadata": {},
          "execution_count": 14
        }
      ]
    },
    {
      "cell_type": "code",
      "metadata": {
        "colab": {
          "base_uri": "https://localhost:8080/",
          "height": 35
        },
        "id": "Iby7-dbAEA18",
        "outputId": "f4be18a9-e665-4f86-9e66-356bd140b7e3"
      },
      "source": [
        "\n",
        "'''Retourne le nombre de commentaires que renferme un article contenu dans un groupe d'articles bien défini.'''\n",
        "\n",
        "def comments(i,j):\n",
        "    try:\n",
        "        d=article_tag(i,j).find('div')\n",
        "        c=d.find('span' ,class_=\"comments-link\").text.strip()\n",
        "    except (AttributeError):\n",
        "        c='0'\n",
        "\n",
        "    else:\n",
        "        c= (c[0:2])\n",
        "    return c\n",
        "\n",
        "comments(14,9) #L'article numéro 9 contenu dans le groupe d'articles 14 (November 2019) a 92 commentaires."
      ],
      "execution_count": 18,
      "outputs": [
        {
          "output_type": "execute_result",
          "data": {
            "application/vnd.google.colaboratory.intrinsic+json": {
              "type": "string"
            },
            "text/plain": [
              "'92'"
            ]
          },
          "metadata": {},
          "execution_count": 18
        }
      ]
    },
    {
      "cell_type": "code",
      "metadata": {
        "colab": {
          "base_uri": "https://localhost:8080/",
          "height": 0
        },
        "id": "Rsw7iGQPEA1_",
        "outputId": "98468044-2318-4c41-ebe8-8ef61a2016f0"
      },
      "source": [
        "''' Fonction qui retourne le titre et l'url de de la catégorie,le titre, l'auteur,la date et le nombre de \n",
        "commentaires de l'article.'''\n",
        "\n",
        "def find_article(i,j):\n",
        "    soup = url_article(i)['soup'] \n",
        "    a_tags = article_tag(i,j).findAll('div')\n",
        "    t_tags = article_tag(i,j).find('time')\n",
        "    title = soup.title.text\n",
        "    url = get_top_articl[i]\n",
        "    article_name=article_tag(i,j).find('a').text.strip()\n",
        "    author=article_tag(i,j).find('a',class_=\"author\").text.strip()\n",
        "    date=t_tags.text.strip()\n",
        "    comment_number=comments(i,j)\n",
        "    \n",
        "    return {\n",
        "        'title':title,\n",
        "        'url': url,       \n",
        "        'article_name':article_name,\n",
        "        'author':author,\n",
        "        'date':date,\n",
        "        'comment_number':comment_number,\n",
        "        \n",
        "    }\n",
        "\n",
        "find_article(4,0)"
      ],
      "execution_count": 19,
      "outputs": [
        {
          "output_type": "execute_result",
          "data": {
            "text/plain": [
              "{'article_name': 'Demand Side Sales 101, a new book on sales by Bob Moesta.',\n",
              " 'author': 'Jason Fried',\n",
              " 'comment_number': '9 ',\n",
              " 'date': 'September 22, 2020',\n",
              " 'title': 'September 2020 - Signal v. Noise',\n",
              " 'url': 'https://m.signalvnoise.com/2020/09/'}"
            ]
          },
          "metadata": {},
          "execution_count": 19
        }
      ]
    },
    {
      "cell_type": "code",
      "metadata": {
        "colab": {
          "base_uri": "https://localhost:8080/",
          "height": 0
        },
        "id": "PGIg9frPEA2G",
        "outputId": "5c987429-241e-4b4e-d794-b1f4b374cae0"
      },
      "source": [
        "find_article(14,8)"
      ],
      "execution_count": 20,
      "outputs": [
        {
          "output_type": "execute_result",
          "data": {
            "text/plain": [
              "{'article_name': 'Rework Mailbag',\n",
              " 'author': 'Wailin Wong',\n",
              " 'comment_number': '0',\n",
              " 'date': 'November 5, 2019',\n",
              " 'title': 'November 2019 - Signal v. Noise',\n",
              " 'url': 'https://m.signalvnoise.com/2019/11/'}"
            ]
          },
          "metadata": {},
          "execution_count": 20
        }
      ]
    },
    {
      "cell_type": "code",
      "metadata": {
        "colab": {
          "base_uri": "https://localhost:8080/",
          "height": 0
        },
        "id": "BnhgcmywEA2I",
        "outputId": "a4df9524-1a0f-4ed7-94ed-47c151f719e0"
      },
      "source": [
        "'''Retourne tous les articles concernant un groupe d'articles avec ses informations'''\n",
        "def get_all_article(i):  \n",
        "    \n",
        "    all_article = [find_article(i,j) for j in range(len(url_article(i)['article']))]\n",
        "    return all_article\n",
        "get_all_article(14)"
      ],
      "execution_count": 21,
      "outputs": [
        {
          "output_type": "execute_result",
          "data": {
            "text/plain": [
              "[{'article_name': 'Calm in the Political Storm',\n",
              "  'author': 'Wailin Wong',\n",
              "  'comment_number': '0',\n",
              "  'date': 'November 26, 2019',\n",
              "  'title': 'November 2019 - Signal v. Noise',\n",
              "  'url': 'https://m.signalvnoise.com/2019/11/'},\n",
              " {'article_name': 'The joy and power of being the independent underdog',\n",
              "  'author': 'Jonas Downey',\n",
              "  'comment_number': '8 ',\n",
              "  'date': 'November 22, 2019',\n",
              "  'title': 'November 2019 - Signal v. Noise',\n",
              "  'url': 'https://m.signalvnoise.com/2019/11/'},\n",
              " {'article_name': 'Spending in the Clouds',\n",
              "  'author': 'Wailin Wong',\n",
              "  'comment_number': '17',\n",
              "  'date': 'November 19, 2019',\n",
              "  'title': 'November 2019 - Signal v. Noise',\n",
              "  'url': 'https://m.signalvnoise.com/2019/11/'},\n",
              " {'article_name': '7 leadership lessons over 2.5 years',\n",
              "  'author': 'Claire Lew',\n",
              "  'comment_number': '2 ',\n",
              "  'date': 'November 18, 2019',\n",
              "  'title': 'November 2019 - Signal v. Noise',\n",
              "  'url': 'https://m.signalvnoise.com/2019/11/'},\n",
              " {'article_name': 'Breaking the Black Box',\n",
              "  'author': 'Wailin Wong',\n",
              "  'comment_number': '1 ',\n",
              "  'date': 'November 15, 2019',\n",
              "  'title': 'November 2019 - Signal v. Noise',\n",
              "  'url': 'https://m.signalvnoise.com/2019/11/'},\n",
              " {'article_name': 'Launch: Basecamp Gets Personal',\n",
              "  'author': 'Jason Fried',\n",
              "  'comment_number': '38',\n",
              "  'date': 'November 12, 2019',\n",
              "  'title': 'November 2019 - Signal v. Noise',\n",
              "  'url': 'https://m.signalvnoise.com/2019/11/'},\n",
              " {'article_name': 'Big Brother at the Office',\n",
              "  'author': 'Wailin Wong',\n",
              "  'comment_number': '0',\n",
              "  'date': 'November 12, 2019',\n",
              "  'title': 'November 2019 - Signal v. Noise',\n",
              "  'url': 'https://m.signalvnoise.com/2019/11/'},\n",
              " {'article_name': 'Compounding time',\n",
              "  'author': 'Jason Fried',\n",
              "  'comment_number': '11',\n",
              "  'date': 'November 5, 2019',\n",
              "  'title': 'November 2019 - Signal v. Noise',\n",
              "  'url': 'https://m.signalvnoise.com/2019/11/'},\n",
              " {'article_name': 'Rework Mailbag',\n",
              "  'author': 'Wailin Wong',\n",
              "  'comment_number': '0',\n",
              "  'date': 'November 5, 2019',\n",
              "  'title': 'November 2019 - Signal v. Noise',\n",
              "  'url': 'https://m.signalvnoise.com/2019/11/'},\n",
              " {'article_name': 'Back to windows after twenty years',\n",
              "  'author': 'DHH',\n",
              "  'comment_number': '92',\n",
              "  'date': 'November 4, 2019',\n",
              "  'title': 'November 2019 - Signal v. Noise',\n",
              "  'url': 'https://m.signalvnoise.com/2019/11/'}]"
            ]
          },
          "metadata": {},
          "execution_count": 21
        }
      ]
    },
    {
      "cell_type": "code",
      "metadata": {
        "colab": {
          "base_uri": "https://localhost:8080/",
          "height": 0
        },
        "id": "KNYg4-SDEA2M",
        "outputId": "96dd5a0c-be7d-41f1-874b-a164ed91f0d4"
      },
      "source": [
        "#Une liste des noms des colonnes de notre dataframe\n",
        "headers = list(get_all_article(0)[0].keys())\n",
        "headers"
      ],
      "execution_count": 22,
      "outputs": [
        {
          "output_type": "execute_result",
          "data": {
            "text/plain": [
              "['title', 'url', 'article_name', 'author', 'date', 'comment_number']"
            ]
          },
          "metadata": {},
          "execution_count": 22
        }
      ]
    },
    {
      "cell_type": "code",
      "metadata": {
        "id": "Da3_f1D7EA2O"
      },
      "source": [
        "import csv\n",
        "''' Prends en parametre la position du groupe d'articles et met toutes les informations \n",
        "le concernant dans un fichier csv nommé article.csv .'''\n",
        "\n",
        "def csv_file(i):\n",
        "    with open('article.csv', 'w') as output_file:\n",
        "        dict_writer = csv.DictWriter(output_file, headers)\n",
        "        dict_writer.writeheader()\n",
        "        dict_writer.writerows(get_all_article(i))\n",
        "csv_file(14)"
      ],
      "execution_count": 23,
      "outputs": []
    },
    {
      "cell_type": "code",
      "metadata": {
        "colab": {
          "base_uri": "https://localhost:8080/",
          "height": 535
        },
        "id": "wNGrfAFoEA2P",
        "outputId": "a44c1e74-3b2a-48a2-f10f-4c33fe8ce732"
      },
      "source": [
        "import pandas as pd\n",
        "pd.read_csv('article.csv')"
      ],
      "execution_count": 24,
      "outputs": [
        {
          "output_type": "execute_result",
          "data": {
            "text/html": [
              "<div>\n",
              "<style scoped>\n",
              "    .dataframe tbody tr th:only-of-type {\n",
              "        vertical-align: middle;\n",
              "    }\n",
              "\n",
              "    .dataframe tbody tr th {\n",
              "        vertical-align: top;\n",
              "    }\n",
              "\n",
              "    .dataframe thead th {\n",
              "        text-align: right;\n",
              "    }\n",
              "</style>\n",
              "<table border=\"1\" class=\"dataframe\">\n",
              "  <thead>\n",
              "    <tr style=\"text-align: right;\">\n",
              "      <th></th>\n",
              "      <th>title</th>\n",
              "      <th>url</th>\n",
              "      <th>article_name</th>\n",
              "      <th>author</th>\n",
              "      <th>date</th>\n",
              "      <th>comment_number</th>\n",
              "    </tr>\n",
              "  </thead>\n",
              "  <tbody>\n",
              "    <tr>\n",
              "      <th>0</th>\n",
              "      <td>November 2019 - Signal v. Noise</td>\n",
              "      <td>https://m.signalvnoise.com/2019/11/</td>\n",
              "      <td>Calm in the Political Storm</td>\n",
              "      <td>Wailin Wong</td>\n",
              "      <td>November 26, 2019</td>\n",
              "      <td>0</td>\n",
              "    </tr>\n",
              "    <tr>\n",
              "      <th>1</th>\n",
              "      <td>November 2019 - Signal v. Noise</td>\n",
              "      <td>https://m.signalvnoise.com/2019/11/</td>\n",
              "      <td>The joy and power of being the independent und...</td>\n",
              "      <td>Jonas Downey</td>\n",
              "      <td>November 22, 2019</td>\n",
              "      <td>8</td>\n",
              "    </tr>\n",
              "    <tr>\n",
              "      <th>2</th>\n",
              "      <td>November 2019 - Signal v. Noise</td>\n",
              "      <td>https://m.signalvnoise.com/2019/11/</td>\n",
              "      <td>Spending in the Clouds</td>\n",
              "      <td>Wailin Wong</td>\n",
              "      <td>November 19, 2019</td>\n",
              "      <td>17</td>\n",
              "    </tr>\n",
              "    <tr>\n",
              "      <th>3</th>\n",
              "      <td>November 2019 - Signal v. Noise</td>\n",
              "      <td>https://m.signalvnoise.com/2019/11/</td>\n",
              "      <td>7 leadership lessons over 2.5 years</td>\n",
              "      <td>Claire Lew</td>\n",
              "      <td>November 18, 2019</td>\n",
              "      <td>2</td>\n",
              "    </tr>\n",
              "    <tr>\n",
              "      <th>4</th>\n",
              "      <td>November 2019 - Signal v. Noise</td>\n",
              "      <td>https://m.signalvnoise.com/2019/11/</td>\n",
              "      <td>Breaking the Black Box</td>\n",
              "      <td>Wailin Wong</td>\n",
              "      <td>November 15, 2019</td>\n",
              "      <td>1</td>\n",
              "    </tr>\n",
              "    <tr>\n",
              "      <th>5</th>\n",
              "      <td>November 2019 - Signal v. Noise</td>\n",
              "      <td>https://m.signalvnoise.com/2019/11/</td>\n",
              "      <td>Launch: Basecamp Gets Personal</td>\n",
              "      <td>Jason Fried</td>\n",
              "      <td>November 12, 2019</td>\n",
              "      <td>38</td>\n",
              "    </tr>\n",
              "    <tr>\n",
              "      <th>6</th>\n",
              "      <td>November 2019 - Signal v. Noise</td>\n",
              "      <td>https://m.signalvnoise.com/2019/11/</td>\n",
              "      <td>Big Brother at the Office</td>\n",
              "      <td>Wailin Wong</td>\n",
              "      <td>November 12, 2019</td>\n",
              "      <td>0</td>\n",
              "    </tr>\n",
              "    <tr>\n",
              "      <th>7</th>\n",
              "      <td>November 2019 - Signal v. Noise</td>\n",
              "      <td>https://m.signalvnoise.com/2019/11/</td>\n",
              "      <td>Compounding time</td>\n",
              "      <td>Jason Fried</td>\n",
              "      <td>November 5, 2019</td>\n",
              "      <td>11</td>\n",
              "    </tr>\n",
              "    <tr>\n",
              "      <th>8</th>\n",
              "      <td>November 2019 - Signal v. Noise</td>\n",
              "      <td>https://m.signalvnoise.com/2019/11/</td>\n",
              "      <td>Rework Mailbag</td>\n",
              "      <td>Wailin Wong</td>\n",
              "      <td>November 5, 2019</td>\n",
              "      <td>0</td>\n",
              "    </tr>\n",
              "    <tr>\n",
              "      <th>9</th>\n",
              "      <td>November 2019 - Signal v. Noise</td>\n",
              "      <td>https://m.signalvnoise.com/2019/11/</td>\n",
              "      <td>Back to windows after twenty years</td>\n",
              "      <td>DHH</td>\n",
              "      <td>November 4, 2019</td>\n",
              "      <td>92</td>\n",
              "    </tr>\n",
              "  </tbody>\n",
              "</table>\n",
              "</div>"
            ],
            "text/plain": [
              "                             title  ... comment_number\n",
              "0  November 2019 - Signal v. Noise  ...              0\n",
              "1  November 2019 - Signal v. Noise  ...              8\n",
              "2  November 2019 - Signal v. Noise  ...             17\n",
              "3  November 2019 - Signal v. Noise  ...              2\n",
              "4  November 2019 - Signal v. Noise  ...              1\n",
              "5  November 2019 - Signal v. Noise  ...             38\n",
              "6  November 2019 - Signal v. Noise  ...              0\n",
              "7  November 2019 - Signal v. Noise  ...             11\n",
              "8  November 2019 - Signal v. Noise  ...              0\n",
              "9  November 2019 - Signal v. Noise  ...             92\n",
              "\n",
              "[10 rows x 6 columns]"
            ]
          },
          "metadata": {},
          "execution_count": 24
        }
      ]
    },
    {
      "cell_type": "code",
      "metadata": {
        "id": "6I46vg6HEA2T"
      },
      "source": [
        "''' Cette fonction retourne tous les articles des 67 groupes d'articles avec leur informations\n",
        "('title', 'url', 'article_name', 'author', 'date', 'comment_number')\n",
        "'''\n",
        "\n",
        "def all_csv_file():\n",
        "  dataframe=[]\n",
        "  for i in range(67):\n",
        "      csv_file(i)\n",
        "      df=pd.read_csv('article.csv')\n",
        "      dataframe.append(df)\n",
        "  resultat=pd.concat(dataframe)\n",
        "  return resultat\n"
      ],
      "execution_count": 27,
      "outputs": []
    },
    {
      "cell_type": "code",
      "metadata": {
        "colab": {
          "base_uri": "https://localhost:8080/",
          "height": 595
        },
        "id": "WnLtx2sKEA2V",
        "outputId": "107f7789-6cde-48f8-8603-41e993632918"
      },
      "source": [
        " all_csv_file()"
      ],
      "execution_count": 28,
      "outputs": [
        {
          "output_type": "execute_result",
          "data": {
            "text/html": [
              "<div>\n",
              "<style scoped>\n",
              "    .dataframe tbody tr th:only-of-type {\n",
              "        vertical-align: middle;\n",
              "    }\n",
              "\n",
              "    .dataframe tbody tr th {\n",
              "        vertical-align: top;\n",
              "    }\n",
              "\n",
              "    .dataframe thead th {\n",
              "        text-align: right;\n",
              "    }\n",
              "</style>\n",
              "<table border=\"1\" class=\"dataframe\">\n",
              "  <thead>\n",
              "    <tr style=\"text-align: right;\">\n",
              "      <th></th>\n",
              "      <th>title</th>\n",
              "      <th>url</th>\n",
              "      <th>article_name</th>\n",
              "      <th>author</th>\n",
              "      <th>date</th>\n",
              "      <th>comment_number</th>\n",
              "    </tr>\n",
              "  </thead>\n",
              "  <tbody>\n",
              "    <tr>\n",
              "      <th>0</th>\n",
              "      <td>February 2021 - Signal v. Noise</td>\n",
              "      <td>https://m.signalvnoise.com/2021/02/</td>\n",
              "      <td>Testimony before the North Dakota Senate Indus...</td>\n",
              "      <td>DHH</td>\n",
              "      <td>February 9, 2021</td>\n",
              "      <td>0</td>\n",
              "    </tr>\n",
              "    <tr>\n",
              "      <th>0</th>\n",
              "      <td>January 2021 - Signal v. Noise</td>\n",
              "      <td>https://m.signalvnoise.com/2021/01/</td>\n",
              "      <td>Reiterating our Use Restrictions Policy</td>\n",
              "      <td>Jason Fried</td>\n",
              "      <td>January 18, 2021</td>\n",
              "      <td>0</td>\n",
              "    </tr>\n",
              "    <tr>\n",
              "      <th>0</th>\n",
              "      <td>December 2020 - Signal v. Noise</td>\n",
              "      <td>https://m.signalvnoise.com/2020/12/</td>\n",
              "      <td>HTML over the wire</td>\n",
              "      <td>DHH</td>\n",
              "      <td>December 23, 2020</td>\n",
              "      <td>0</td>\n",
              "    </tr>\n",
              "    <tr>\n",
              "      <th>1</th>\n",
              "      <td>December 2020 - Signal v. Noise</td>\n",
              "      <td>https://m.signalvnoise.com/2020/12/</td>\n",
              "      <td>Validation is a mirage</td>\n",
              "      <td>Jason Fried</td>\n",
              "      <td>December 22, 2020</td>\n",
              "      <td>7</td>\n",
              "    </tr>\n",
              "    <tr>\n",
              "      <th>2</th>\n",
              "      <td>December 2020 - Signal v. Noise</td>\n",
              "      <td>https://m.signalvnoise.com/2020/12/</td>\n",
              "      <td>The Making of a Dumpster Fire</td>\n",
              "      <td>Andy Didorosi</td>\n",
              "      <td>December 15, 2020</td>\n",
              "      <td>19</td>\n",
              "    </tr>\n",
              "    <tr>\n",
              "      <th>...</th>\n",
              "      <td>...</td>\n",
              "      <td>...</td>\n",
              "      <td>...</td>\n",
              "      <td>...</td>\n",
              "      <td>...</td>\n",
              "      <td>...</td>\n",
              "    </tr>\n",
              "    <tr>\n",
              "      <th>7</th>\n",
              "      <td>September 2015 - Signal v. Noise</td>\n",
              "      <td>https://m.signalvnoise.com/2015/09/</td>\n",
              "      <td>Disruption is better when it’s other people’s ...</td>\n",
              "      <td>DHH</td>\n",
              "      <td>September 22, 2015</td>\n",
              "      <td>0</td>\n",
              "    </tr>\n",
              "    <tr>\n",
              "      <th>8</th>\n",
              "      <td>September 2015 - Signal v. Noise</td>\n",
              "      <td>https://m.signalvnoise.com/2015/09/</td>\n",
              "      <td>Reminder: Design is still about words</td>\n",
              "      <td>Mig Reyes</td>\n",
              "      <td>September 22, 2015</td>\n",
              "      <td>0</td>\n",
              "    </tr>\n",
              "    <tr>\n",
              "      <th>9</th>\n",
              "      <td>September 2015 - Signal v. Noise</td>\n",
              "      <td>https://m.signalvnoise.com/2015/09/</td>\n",
              "      <td>It’s OK not to use tools</td>\n",
              "      <td>Jonas Downey</td>\n",
              "      <td>September 22, 2015</td>\n",
              "      <td>0</td>\n",
              "    </tr>\n",
              "    <tr>\n",
              "      <th>0</th>\n",
              "      <td>June 2014 - Signal v. Noise</td>\n",
              "      <td>https://m.signalvnoise.com/2014/06/</td>\n",
              "      <td>How I managed to get Tim Ferriss to advise me,...</td>\n",
              "      <td>Nathan Kontny</td>\n",
              "      <td>June 26, 2014</td>\n",
              "      <td>0</td>\n",
              "    </tr>\n",
              "    <tr>\n",
              "      <th>0</th>\n",
              "      <td>November 2013 - Signal v. Noise</td>\n",
              "      <td>https://m.signalvnoise.com/2013/11/</td>\n",
              "      <td>Business Failing? You Might Be Asking The Wron...</td>\n",
              "      <td>Nathan Kontny</td>\n",
              "      <td>November 14, 2013</td>\n",
              "      <td>0</td>\n",
              "    </tr>\n",
              "  </tbody>\n",
              "</table>\n",
              "<p>543 rows × 6 columns</p>\n",
              "</div>"
            ],
            "text/plain": [
              "                               title  ... comment_number\n",
              "0    February 2021 - Signal v. Noise  ...              0\n",
              "0     January 2021 - Signal v. Noise  ...              0\n",
              "0    December 2020 - Signal v. Noise  ...              0\n",
              "1    December 2020 - Signal v. Noise  ...              7\n",
              "2    December 2020 - Signal v. Noise  ...             19\n",
              "..                               ...  ...            ...\n",
              "7   September 2015 - Signal v. Noise  ...              0\n",
              "8   September 2015 - Signal v. Noise  ...              0\n",
              "9   September 2015 - Signal v. Noise  ...              0\n",
              "0        June 2014 - Signal v. Noise  ...              0\n",
              "0    November 2013 - Signal v. Noise  ...              0\n",
              "\n",
              "[543 rows x 6 columns]"
            ]
          },
          "metadata": {},
          "execution_count": 28
        }
      ]
    },
    {
      "cell_type": "markdown",
      "metadata": {
        "id": "h62HE9kNGb65"
      },
      "source": [
        "*Nous avons donc en sommes 543 articles répartis dans les 67 groupes d'articles*"
      ]
    },
    {
      "cell_type": "markdown",
      "metadata": {
        "id": "MCtk-0tKWMYu"
      },
      "source": [
        "***RESUME DE CODE***"
      ]
    },
    {
      "cell_type": "code",
      "metadata": {
        "id": "EK3WZ5GjUMQK"
      },
      "source": [
        "import requests\n",
        "from bs4 import BeautifulSoupimport requests\n",
        "from bs4 import BeautifulSoup\n",
        "import csv\n",
        "import pandas as pd\n",
        "url='https://m.signalvnoise.com/search/'\n",
        "response=requests.get(url)\n",
        "doc = BeautifulSoup(response.text)\n",
        "article_tags=doc.findAll('li')  # Permet de récupérer toutes les catégories d'articles.\n",
        "article_tag=article_tags[4] # Renvoie la catégorie d'articles en position 4(Septembre 2020)\n",
        "\n",
        "''' \n",
        "Cette fonction prends en parametre la variable qui renvoie la catégorie d'articles en position 4(Septembre 2020)\n",
        "et qui retourne  l'url permettant d'acceder à ce groupe d'articles.\n",
        "Nous avons en sommes 67 groupes d'articles. Dans la suite i varie entre 0 et 66\n",
        "'''\n",
        "def parse_articl(article_tag):\n",
        "    a_tags = article_tag.find('a')\n",
        "    \n",
        "    url = a_tags['href']\n",
        " \n",
        "    return url\n",
        "\n",
        "'''\n",
        "  Permet de récupérer sous forme de liste tous les urls permettant d'acceder aux différentes catégories d'articles\n",
        "'''\n",
        "\n",
        "def get_top_articl(article_tags):\n",
        "    all_article = [parse_articl(tag) for tag in article_tags]\n",
        "    return all_article\n",
        "get_top_articl=get_top_articl(article_tags)\n",
        "\n",
        "'''Prends en paramètre la position du groupe d'articles et retourne un dictionnaire ayant comme clés:\n",
        "response qui récupère son url , soup pour analyser son contenu et article pour qui renvoie tous les articles qu'il renferme.\n",
        "Un groupe d'articles contient un ou plusieurs articles '''\n",
        "\n",
        "def url_article(i):\n",
        "    response=requests.get(get_top_articl[i]) \n",
        "    soup = BeautifulSoup(response.text,'html.parser')  \n",
        "    article=soup.findAll('article',class_=\"entry-summary grid__item grid__item--third\")\n",
        "    return {'response':response,\n",
        "           'soup':soup,\n",
        "           'article':article}\n",
        "\n",
        "'''Prends en paramètre la position du groupe d'articles et l'indice de l'article contenu dans le groupe d'articles\n",
        "         et retourne ainsi cet article'''\n",
        "         \n",
        "def article_tag(i,j):\n",
        "    article=url_article(i)['article']\n",
        "    art_tag=article[j]\n",
        "    return art_tag\n",
        "\n",
        "\n",
        "'''Retourne le nombre de commentaires que renferme un article contenu dans un groupe d'articles bien défini.'''\n",
        "\n",
        "def comments(i,j):\n",
        "    try:\n",
        "        d=article_tag(i,j).find('div')\n",
        "        c=d.find('span' ,class_=\"comments-link\").text.strip()\n",
        "    except (AttributeError):\n",
        "        c='0'\n",
        "\n",
        "    else:\n",
        "        c= (c[0:2])\n",
        "    return c\n",
        "\n",
        "''' Fonction qui retourne le titre et l'url de de la catégorie,le titre, l'auteur,la date et le nombre de \n",
        "commentaires de l'article.'''\n",
        "\n",
        "def find_article(i,j):\n",
        "    soup = url_article(i)['soup'] \n",
        "    a_tags = article_tag(i,j).findAll('div')\n",
        "    t_tags = article_tag(i,j).find('time')\n",
        "    title = soup.title.text\n",
        "    url = get_top_articl[i]\n",
        "    article_name=article_tag(i,j).find('a').text.strip()\n",
        "    author=article_tag(i,j).find('a',class_=\"author\").text.strip()\n",
        "    date=t_tags.text.strip()\n",
        "    comment_number=comments(i,j)\n",
        "    \n",
        "    return {\n",
        "        'title':title,\n",
        "        'url': url,       \n",
        "        'article_name':article_name,\n",
        "        'author':author,\n",
        "        'date':date,\n",
        "        'comment_number':comment_number,\n",
        "        \n",
        "    }\n",
        "\n",
        "'''Retourne tous les articles concernant un groupe d'articles avec ses informations'''\n",
        "def get_all_article(i):  \n",
        "    \n",
        "    all_article = [find_article(i,j) for j in range(len(url_article(i)['article']))]\n",
        "    return all_article\n",
        "\n",
        "#Une liste des noms des colonnes de notre dataframe\n",
        "headers = list(get_all_article(0)[0].keys())\n",
        "\n",
        "\n",
        "''' Prends en parametre la position du groupe d'articles et met toutes les informations \n",
        "le concernant dans un fichier csv nommé article.csv .'''\n",
        "\n",
        "def csv_file(i):\n",
        "    with open('article.csv', 'w') as output_file:\n",
        "        dict_writer = csv.DictWriter(output_file, headers)\n",
        "        dict_writer.writeheader()\n",
        "        dict_writer.writerows(get_all_article(i))\n",
        "csv_file(14)\n",
        "\n",
        "pd.read_csv('article.csv')\n",
        "\n",
        "''' Cette fonction retourne tous les articles des 67 groupes d'articles avec leur informations\n",
        "('title', 'url', 'article_name', 'author', 'date', 'comment_number')\n",
        "'''\n",
        "\n",
        "def all_csv_file():\n",
        "  dataframe=[]\n",
        "  for i in range(67):\n",
        "      csv_file(i)\n",
        "      df=pd.read_csv('article.csv')\n",
        "      dataframe.append(df)\n",
        "  resultat=pd.concat(dataframe)\n",
        "  return resultat\n"
      ],
      "execution_count": null,
      "outputs": []
    }
  ]
}